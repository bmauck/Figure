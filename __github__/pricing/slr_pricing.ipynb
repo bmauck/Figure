{
 "cells": [
  {
   "cell_type": "code",
   "execution_count": 1,
   "metadata": {},
   "outputs": [],
   "source": [
    "import os\n",
    "import json\n",
    "import pandas as pd\n",
    "import numpy as np\n",
    "import datetime as dt\n",
    "import blpapi, pdblp\n",
    "from pandas.tseries.offsets import BDay\n",
    "\n",
    "pd.set_option('display.max_columns', 500)\n",
    "cwd = os.getcwd()\n",
    "tday = dt.datetime.today().date()\n",
    "yest = (tday - BDay(1)).date()\n",
    "yest_str = yest.isoformat().replace('-', '')\n",
    "tday_str = tday.isoformat().replace('-', '')"
   ]
  },
  {
   "cell_type": "code",
   "execution_count": 2,
   "metadata": {},
   "outputs": [],
   "source": [
    "cxn = pdblp.BCon(debug=False, port=8194, timeout=5000)\n",
    "cxn.start();"
   ]
  },
  {
   "cell_type": "code",
   "execution_count": 11,
   "metadata": {},
   "outputs": [],
   "source": [
    "terms = [5, 7, 10, 15, 20]"
   ]
  },
  {
   "cell_type": "code",
   "execution_count": 4,
   "metadata": {},
   "outputs": [],
   "source": [
    "px_grid = cwd + '/slr/grids/pricing_fixed_{}yr-20200317.csv'"
   ]
  },
  {
   "cell_type": "code",
   "execution_count": 5,
   "metadata": {},
   "outputs": [],
   "source": [
    "p4w_close = tday - BDay(20)\n",
    "p4w_close = p4w_close.date()\n",
    "p4w_close_str = p4w_close.isoformat().replace('-', '')"
   ]
  },
  {
   "cell_type": "code",
   "execution_count": 6,
   "metadata": {},
   "outputs": [],
   "source": [
    "p12w_close = tday - BDay(60)\n",
    "p12w_close = p12w_close.date()\n",
    "p12w_close_str = p12w_close.isoformat().replace('-', '')"
   ]
  },
  {
   "cell_type": "code",
   "execution_count": 7,
   "metadata": {},
   "outputs": [],
   "source": [
    "sectys = ['USSW2 Curncy', 'USSW3 Curncy', 'USSW4 Curncy', 'USSW5 Curncy', 'USSW10 Curncy'\n",
    "            ,'IBOXUMAE CBBT Curncy', 'IBOXHYSE CBBT Curncy', 'SPX Index', 'CCMP Index']"
   ]
  },
  {
   "cell_type": "code",
   "execution_count": 8,
   "metadata": {},
   "outputs": [
    {
     "name": "stdout",
     "output_type": "stream",
     "text": [
      "USSW2 Curncy\n",
      "USSW3 Curncy\n",
      "USSW4 Curncy\n",
      "USSW5 Curncy\n",
      "USSW10 Curncy\n",
      "IBOXUMAE CBBT Curncy\n",
      "IBOXHYSE CBBT Curncy\n",
      "SPX Index\n",
      "CCMP Index\n"
     ]
    }
   ],
   "source": [
    "quotes = {}\n",
    "for sec in sectys:\n",
    "    print(sec)\n",
    "    quotes[sec] = cxn.bdh('{}'.format(sec), 'PX_LAST', p4w_close_str, p4w_close_str).values[0][0]"
   ]
  },
  {
   "cell_type": "code",
   "execution_count": 9,
   "metadata": {},
   "outputs": [
    {
     "data": {
      "text/plain": [
       "'Z:\\\\Shared\\\\Capital Markets\\\\__github__\\\\pricing'"
      ]
     },
     "execution_count": 9,
     "metadata": {},
     "output_type": "execute_result"
    }
   ],
   "source": [
    "cwd"
   ]
  },
  {
   "cell_type": "code",
   "execution_count": 10,
   "metadata": {},
   "outputs": [],
   "source": [
    "px_file = '/slr/pricing_slr-{}.xlsx'.format(tday_str)\n",
    "writer = pd.ExcelWriter(os.getcwd() + px_file, engine='xlsxwriter')\n",
    "count = 0\n",
    "for term in terms:\n",
    "    df = pd.read_csv(px_grid.format(term), index_col=0)\n",
    "        \n",
    "    if term == 5:\n",
    "        px = (quotes['USSW2 Curncy'] + (quotes['IBOXUMAE CBBT Curncy'] / 100)) / 100\n",
    "    elif term == 7:\n",
    "        px = (quotes['USSW2 Curncy'] + (quotes['IBOXUMAE CBBT Curncy'] / 100)) / 100\n",
    "    elif term == 10:\n",
    "        px = (quotes['USSW3 Curncy'] + (quotes['IBOXUMAE CBBT Curncy'] / 100)) / 100\n",
    "    elif term == 15:\n",
    "        px = (quotes['USSW3 Curncy'] + (quotes['IBOXUMAE CBBT Curncy'] / 100)) / 100\n",
    "    elif term == 20:\n",
    "        px = (quotes['USSW4 Curncy'] + (quotes['IBOXUMAE CBBT Curncy'] / 100)) / 100\n",
    "    else:\n",
    "        print('This loan term cannot be handled')\n",
    "\n",
    "    df = df.add(px)\n",
    "    df1 = df - 0.0164\n",
    "    \n",
    "    df.to_excel(writer, sheet_name='px_fixed', startrow=count+1)\n",
    "    df1.to_excel(writer, sheet_name='px_variable', startrow=count+1)\n",
    "    \n",
    "    wb = writer.book\n",
    "    ws = writer.sheets['px_fixed']\n",
    "    ws1 = writer.sheets['px_variable']\n",
    "#     print(df)\n",
    "\n",
    "    ws.write('A{}'.format(count+1), '{}Y Fixed'.format(term))\n",
    "    ws.write('A40', 'Assumptions: ' + json.dumps(quotes))\n",
    "    \n",
    "    ws1.write('A{}'.format(count+1), '{}Y Variable'.format(term))\n",
    "    ws1.write('A40', 'Assumptions: ' + json.dumps(quotes))\n",
    "    \n",
    "    count += 7\n",
    "    \n",
    "wb = writer.book\n",
    "ws = writer.sheets['px_fixed']\n",
    "ws1 = writer.sheets['px_variable']\n",
    "\n",
    "\n",
    "teaser_rate = 0.0349\n",
    "libor = 0.0164\n",
    "\n",
    "ws.write('D6', teaser_rate)\n",
    "ws1.write('D6', teaser_rate - libor)\n",
    "\n",
    "pct_format = wb.add_format({'num_format': '0.000%'})\n",
    "ws.set_column('B:D', None, pct_format)\n",
    "ws1.set_column('B:D', None, pct_format)\n",
    "\n",
    "wb.close()\n",
    "writer.save()"
   ]
  },
  {
   "cell_type": "code",
   "execution_count": 16,
   "metadata": {},
   "outputs": [],
   "source": [
    "import smtplib\n",
    "import ssl\n",
    "import email\n",
    "\n",
    "from email import encoders\n",
    "from email.mime.base import MIMEBase\n",
    "from email.mime.text import MIMEText\n",
    "from email.mime.multipart import MIMEMultipart"
   ]
  },
  {
   "cell_type": "code",
   "execution_count": 17,
   "metadata": {},
   "outputs": [
    {
     "name": "stdin",
     "output_type": "stream",
     "text": [
      "Password: BMM542-44-7237bmm\n"
     ]
    }
   ],
   "source": [
    "sender_email = 'bmauck@figure.com'\n",
    "receiver_email = 'bmauck@figure.com'\n",
    "pw = input('Password:')"
   ]
  },
  {
   "cell_type": "code",
   "execution_count": 18,
   "metadata": {},
   "outputs": [],
   "source": [
    "import yagmail"
   ]
  },
  {
   "cell_type": "code",
   "execution_count": 67,
   "metadata": {},
   "outputs": [
    {
     "data": {
      "text/plain": [
       "{}"
      ]
     },
     "execution_count": 67,
     "metadata": {},
     "output_type": "execute_result"
    }
   ],
   "source": [
    "to = 'bmauck@figure.com'\n",
    "body = \"\"\"\\\n",
    "\n",
    "Student Loan Refi pricing attached. \n",
    "\n",
    "\n",
    "Assumptions: \n",
    "{}\n",
    "\"\"\".format(quotes)\n",
    " \n",
    "filename = 'Z:/Shared/Capital Markets/Pricing/slr/pricing_slr-{}.xlsx'.format(tday_str)\n",
    "\n",
    "yag = yagmail.SMTP('bmauck@figure.com')\n",
    "yag.send(to=to, \n",
    "        subject='Figure SLR Pricing {}'.format(tday_str), \n",
    "        contents=body,\n",
    "        attachments=filename)"
   ]
  },
  {
   "cell_type": "code",
   "execution_count": null,
   "metadata": {},
   "outputs": [],
   "source": []
  }
 ],
 "metadata": {
  "kernelspec": {
   "display_name": "Python 3",
   "language": "python",
   "name": "python3"
  },
  "language_info": {
   "codemirror_mode": {
    "name": "ipython",
    "version": 3
   },
   "file_extension": ".py",
   "mimetype": "text/x-python",
   "name": "python",
   "nbconvert_exporter": "python",
   "pygments_lexer": "ipython3",
   "version": "3.7.7"
  }
 },
 "nbformat": 4,
 "nbformat_minor": 4
}
